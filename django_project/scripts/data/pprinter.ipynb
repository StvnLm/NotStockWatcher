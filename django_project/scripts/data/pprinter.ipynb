{
 "metadata": {
  "language_info": {
   "codemirror_mode": {
    "name": "ipython",
    "version": 3
   },
   "file_extension": ".py",
   "mimetype": "text/x-python",
   "name": "python",
   "nbconvert_exporter": "python",
   "pygments_lexer": "ipython3",
   "version": "3.8.10"
  },
  "orig_nbformat": 2,
  "kernelspec": {
   "name": "python3810jvsc74a57bd0b3ba2566441a7c06988d0923437866b63cedc61552a5af99d1f4fb67d367b25f",
   "display_name": "Python 3.8.10 64-bit (conda)"
  }
 },
 "nbformat": 4,
 "nbformat_minor": 2,
 "cells": [
  {
   "cell_type": "code",
   "execution_count": 1,
   "metadata": {},
   "outputs": [],
   "source": [
    "with open(\"u.txt\", \"r\") as f:\n",
    "    lines = f.readlines()"
   ]
  },
  {
   "cell_type": "code",
   "execution_count": 3,
   "metadata": {},
   "outputs": [
    {
     "output_type": "execute_result",
     "data": {
      "text/plain": [
       "or\": \"Susan M Collins\", \"ptr_link\": \"https://efdsearch.senate.gov/search/view/paper/4C223DFE-E7F5-47B3-A7F3-3DAEC51B68E4/\"}, {\"transaction_date\": \"12/13/2012\", \"disclosure_date\": \"12/13/2012\", \"owner\": \"N/A\", \"ticker\": \"N/A\", \"asset_description\": \"This filing was disclosed via scanned PDF. Use link in ptr_link column to view the PDF.\", \"asset_type\": \"PDF Disclosed Filing\", \"type\": \"N/A\", \"amount\": \"Unknown\", \"comment\": \"\", \"senator\": \"Mark R Warner\", \"ptr_link\": \"https://efdsearch.senate.gov/search/view/paper/F3C56572-440E-4032-BE2F-02CEF98AB5F8/\"}, {\"transaction_date\": \"12/10/2012\", \"disclosure_date\": \"12/10/2012\", \"owner\": \"N/A\", \"ticker\": \"N/A\", \"asset_description\": \"This filing was disclosed via scanned PDF. Use link in ptr_link column to view the PDF.\", \"asset_type\": \"PDF Disclosed Filing\", \"type\": \"N/A\", \"amount\": \"Unknown\", \"comment\": \"\", \"senator\": \"Sheldon Whitehouse\", \"ptr_link\": \"https://efdsearch.senate.gov/search/view/paper/89B55A61-3C8F-4510-B003-D84494C741E0/\"}, {\"transaction_date\": \"12/05/2012\", \"disclosure_date\": \"12/05/2012\", \"owner\": \"N/A\", \"ticker\": \"N/A\", \"asset_description\": \"This filing was disclosed via scanned PDF. Use link in ptr_link column to view the PDF.\", \"asset_type\": \"PDF Disclosed Filing\", \"type\": \"N/A\", \"amount\": \"Unknown\", \"comment\": \"\", \"senator\": \"Thomas R Carper\", \"ptr_link\": \"https://efdsearch.senate.gov/search/view/paper/674F5D7B-5A21-4A47-B0DA-2BD185C60265/\"}, {\"transaction_date\": \"12/04/2012\", \"disclosure_date\": \"12/04/2012\", \"owner\": \"N/A\", \"ticker\": \"N/A\", \"asset_description\": \"This filing was disclosed via scanned PDF. Use link in ptr_link column to view the PDF.\", \"asset_type\": \"PDF Disclosed Filing\", \"type\": \"N/A\", \"amount\": \"Unknown\", \"comment\": \"\", \"senator\": \"Susan M Collins\", \"ptr_link\": \"https://efdsearch.senate.gov/search/view/paper/06E76929-595C-4663-A1A9-3154A8D71B69/\"}, {\"transaction_date\": \"11/26/2012\", \"disclosure_date\": \"11/26/2012\", \"owner\": \"N/A\", \"ticker\": \"N/A\", \"asset_description\": \"This filing was disclosed via scanned PDF. Use link in ptr_link column to view the PDF.\", \"asset_type\": \"PDF Disclosed Filing\", \"type\": \"N/A\", \"amount\": \"Unknown\", \"comment\": \"\", \"senator\": \"Susan M Collins\", \"ptr_link\": \"https://efdsearch.senate.gov/search/view/paper/9A775B4E-BE50-4682-A055-9592563A6DED/\"}, {\"transaction_date\": \"11/19/2012\", \"disclosure_date\": \"11/19/2012\", \"owner\": \"N/A\", \"ticker\": \"N/A\", \"asset_description\": \"This filing was disclosed via scanned PDF. Use link in ptr_link column to view the PDF.\", \"asset_type\": \"PDF Disclosed Filing\", \"type\": \"N/A\", \"amount\": \"Unknown\", \"comment\": \"\", \"senator\": \"Susan M Collins\", \"ptr_link\": \"https://efdsearch.senate.gov/search/view/paper/1615FC3C-215D-477B-BAD1-0D96FB2FC61C/\"}, {\"transaction_date\": \"11/15/2012\", \"disclosure_date\": \"11/15/2012\", \"owner\": \"N/A\", \"ticker\": \"N/A\", \"asset_description\": \"This filing was disclosed via scanned PDF. Use link in ptr_link column to view the PDF.\", \"asset_type\": \"PDF Disclosed Filing\", \"type\": \"N/A\", \"amount\": \"Unknown\", \"comment\": \"\", \"senator\": \"Susan M Collins\", \"ptr_link\": \"https://efdsearch.senate.gov/search/view/paper/15533CE0-12A8-43A4-A521-788F7E20BF31/\"}, {\"transaction_date\": \"11/14/2012\", \"disclosure_date\": \"11/14/2012\", \"owner\": \"N/A\", \"ticker\": \"N/A\", \"asset_description\": \"This filing was disclosed via scanned PDF. Use link in ptr_link column to view the PDF.\", \"asset_type\": \"PDF Disclosed Filing\", \"type\": \"N/A\", \"amount\": \"Unknown\", \"comment\": \"\", \"senator\": \"John Hoeven\", \"ptr_link\": \"https://efdsearch.senate.gov/search/view/paper/C76EE0FF-5A42-414B-9291-8A05E1849FF2/\"}, {\"transaction_date\": \"11/13/2012\", \"disclosure_date\": \"11/13/2012\", \"owner\": \"N/A\", \"ticker\": \"N/A\", \"asset_description\": \"This filing was disclosed via scanned PDF. Use link in ptr_link column to view the PDF.\", \"asset_type\": \"PDF Disclosed Filing\", \"type\": \"N/A\", \"amount\": \"Unknown\", \"comment\": \"\", \"senator\": \"Mark R Warner\", \"ptr_link\": \"https://efdsearch.senate.gov/search/view/paper/536C0A20-EC52-44AA-AEDC-9523E5326313/\"}, {\"transaction_date\": \"11/09/2012\", \"disclosure_date\": \"11/09/2012\", \"owner\": \"N/A\", \"ticker\": \"N/A\", \"asset_description\": \"This filing was disclosed via scanned PDF. Use link in ptr_link column to view the PDF.\", \"asset_type\": \"PDF Disclosed Filing\", \"type\": \"N/A\", \"amount\": \"Unknown\", \"comment\": \"\", \"senator\": \"Benjamin L Cardin\", \"ptr_link\": \"https://efdsearch.senate.gov/search/view/paper/E00C9A9D-8CC5-45A8-8F08-83D1BF9676DE/\"}, {\"transaction_date\": \"11/09/2012\", \"disclosure_date\": \"11/09/2012\", \"owner\": \"N/A\", \"ticker\": \"N/A\", \"asset_description\": \"This filing was disclosed via scanned PDF. Use link in ptr_link column to view the PDF.\", \"asset_type\": \"PDF Disclosed Filing\", \"type\": \"N/A\", \"amount\": \"Unknown\", \"comment\": \"\", \"senator\": \"Sheldon Whitehouse\", \"ptr_link\": \"https://efdsearch.senate.gov/search/view/paper/36DFB4B5-15C0-4DE3-AD75-A324A6772948/\"}, {\"transaction_date\": \"11/05/2012\", \"disclosure_date\": \"11/05/2012\", \"owner\": \"N/A\", \"ticker\": \"N/A\", \"asset_description\": \"This filing was disclosed via scanned PDF. Use link in ptr_link column to view the PDF.\", \"asset_type\": \"PDF Disclosed Filing\", \"type\": \"N/A\", \"amount\": \"Unknown\", \"comment\": \"\", \"senator\": \"Thomas R Carper\", \"ptr_link\": \"https://efdsearch.senate.gov/search/view/paper/7A7ABE71-9A06-4074-B85E-D419FA6C452F/\"}, {\"transaction_date\": \"11/05/2012\", \"disclosure_date\": \"11/05/2012\", \"owner\": \"N/A\", \"ticker\": \"N/A\", \"asset_description\": \"This filing was disclosed via scanned PDF. Use link in ptr_link column to view the PDF.\", \"asset_type\": \"PDF Disclosed Filing\", \"type\": \"N/A\", \"amount\": \"Unknown\", \"comment\": \"\", \"senator\": \"Thad Cochran\", \"ptr_link\": \"https://efdsearch.senate.gov/search/view/paper/F9AD0FDB-C174-4220-B3B7-476288D1CB61/\"}, {\"transaction_date\": \"11/01/2012\", \"disclosure_date\": \"11/01/2012\", \"owner\": \"N/A\", \"ticker\": \"N/A\", \"asset_description\": \"This filing was disclosed via scanned PDF. Use link in ptr_link column to view the PDF.\", \"asset_type\": \"PDF Disclosed Filing\", \"type\": \"N/A\", \"amount\": \"Unknown\", \"comment\": \"\", \"senator\": \"Patrick J Toomey\", \"ptr_link\": \"https://efdsearch.senate.gov/search/view/paper/4F1A5D69-9A54-48B8-8AE2-BA9366A573BC/\"}, {\"transaction_date\": \"10/31/2012\", \"disclosure_date\": \"10/31/2012\", \"owner\": \"N/A\", \"ticker\": \"N/A\", \"asset_description\": \"This filing was disclosed via scanned PDF. Use link in ptr_link column to view the PDF.\", \"asset_type\": \"PDF Disclosed Filing\", \"type\": \"N/A\", \"amount\": \"Unknown\", \"comment\": \"\", \"senator\": \"Pat Roberts\", \"ptr_link\": \"https://efdsearch.senate.gov/search/view/paper/09F27BC5-02B8-42D8-BB79-9AEC73A91A61/\"}, {\"transaction_date\": \"10/25/2012\", \"disclosure_date\": \"10/25/2012\", \"owner\": \"N/A\", \"ticker\": \"N/A\", \"asset_description\": \"This filing was disclosed via scanned PDF. Use link in ptr_link column to view the PDF.\", \"asset_type\": \"PDF Disclosed Filing\", \"type\": \"N/A\", \"amount\": \"Unknown\", \"comment\": \"\", \"senator\": \"Susan M Collins\", \"ptr_link\": \"https://efdsearch.senate.gov/search/view/paper/F3E2E5C7-81EA-4EB0-B65F-9A6E4859772D/\"}, {\"transaction_date\": \"10/22/2012\", \"disclosure_date\": \"10/22/2012\", \"owner\": \"N/A\", \"ticker\": \"N/A\", \"asset_description\": \"This filing was disclosed via scanned PDF. Use link in ptr_link column to view the PDF.\", \"asset_type\": \"PDF Disclosed Filing\", \"type\": \"N/A\", \"amount\": \"Unknown\", \"comment\": \"\", \"senator\": \"John Hoeven\", \"ptr_link\": \"https://efdsearch.senate.gov/search/view/paper/A6D7D3CC-8CC8-4AD2-AB2E-5FA17796EC99/\"}, {\"transaction_date\": \"10/19/2012\", \"disclosure_date\": \"10/19/2012\", \"owner\": \"N/A\", \"ticker\": \"N/A\", \"asset_description\": \"This filing was disclosed via scanned PDF. Use link in ptr_link column to view the PDF.\", \"asset_type\": \"PDF Disclosed Filing\", \"type\": \"N/A\", \"amount\": \"Unknown\", \"comment\": \"\", \"senator\": \"Richard M Burr\", \"ptr_link\": \"https://efdsearch.senate.gov/search/view/paper/ADC10753-5D2F-415D-8A61-1F40C3704D27/\"}, {\"transaction_date\": \"10/11/2012\", \"disclosure_date\": \"10/11/2012\", \"owner\": \"N/A\", \"ticker\": \"N/A\", \"asset_description\": \"This filing was disclosed via scanned PDF. Use link in ptr_link column to view the PDF.\", \"asset_type\": \"PDF Disclosed Filing\", \"type\": \"N/A\", \"amount\": \"Unknown\", \"comment\": \"\", \"senator\": \"Benjamin L Cardin\", \"ptr_link\": \"https://efdsearch.senate.gov/search/view/paper/77E3FB46-05E8-4582-B463-EC50A5486AA2/\"}, {\"transaction_date\": \"10/11/2012\", \"disclosure_date\": \"10/11/2012\", \"owner\": \"N/A\", \"ticker\": \"N/A\", \"asset_description\": \"This filing was disclosed via scanned PDF. Use link in ptr_link column to view the PDF.\", \"asset_type\": \"PDF Disclosed Filing\", \"type\": \"N/A\", \"amount\": \"Unknown\", \"comment\": \"\", \"senator\": \"Mark R Warner\", \"ptr_link\": \"https://efdsearch.senate.gov/search/view/paper/1F0D78FB-C2AB-40A4-8D2C-C9B18DC46631/\"}, {\"transaction_date\": \"10/10/2012\", \"disclosure_date\": \"10/10/2012\", \"owner\": \"N/A\", \"ticker\": \"N/A\", \"asset_description\": \"This filing was disclosed via scanned PDF. Use link in ptr_link column to view the PDF.\", \"asset_type\": \"PDF Disclosed Filing\", \"type\": \"N/A\", \"amount\": \"Unknown\", \"comment\": \"\", \"senator\": \"Thomas R Carper\", \"ptr_link\": \"https://efdsearch.senate.gov/search/view/paper/6893F222-2211-4D91-A496-0474A0CD9BFA/\"}, {\"transaction_date\": \"10/10/2012\", \"disclosure_date\": \"10/10/2012\", \"owner\": \"N/A\", \"ticker\": \"N/A\", \"asset_description\": \"This filing was disclosed via scanned PDF. Use link in ptr_link column to view the PDF.\", \"asset_type\": \"PDF Disclosed Filing\", \"type\": \"N/A\", \"amount\": \"Unknown\", \"comment\": \"\", \"senator\": \"John F Reed\", \"ptr_link\": \"https://efdsearch.senate.gov/search/view/paper/D26DFC13-1666-47DD-970B-6BC3CB87A24A/\"}, {\"transaction_date\": \"10/09/2012\", \"disclosure_date\": \"10/09/2012\", \"owner\": \"N/A\", \"ticker\": \"N/A\", \"asset_description\": \"This filing was disclosed via scanned PDF. Use link in ptr_link column to view the PDF.\", \"asset_type\": \"PDF Disclosed Filing\", \"type\": \"N/A\", \"amount\": \"Unknown\", \"comment\": \"\", \"senator\": \"Thad Cochran\", \"ptr_link\": \"https://efdsearch.senate.gov/search/view/paper/A0844330-8ABB-47A5-BC9D-3CED4F3D6359/\"}, {\"transaction_date\": \"10/09/2012\", \"disclosure_date\": \"10/09/2012\", \"owner\": \"N/A\", \"ticker\": \"N/A\", \"asset_description\": \"This filing was disclosed via scanned PDF. Use link in ptr_link column to view the PDF.\", \"asset_type\": \"PDF Disclosed Filing\", \"type\": \"N/A\", \"amount\": \"Unknown\", \"comment\": \"\", \"senator\": \"Robert J Portman\", \"ptr_link\": \"https://efdsearch.senate.gov/search/view/paper/6A776E2E-DBDA-4A4E-A398-C65A73920F41/\"}, {\"transaction_date\": \"10/04/2012\", \"disclosure_date\": \"10/04/2012\", \"owner\": \"N/A\", \"ticker\": \"N/A\", \"asset_description\": \"This filing was disclosed via scanned PDF. Use link in ptr_link column to view the PDF.\", \"asset_type\": \"PDF Disclosed Filing\", \"type\": \"N/A\", \"amount\": \"Unknown\", \"comment\": \"\", \"senator\": \"Thomas R Carper\", \"ptr_link\": \"https://efdsearch.senate.gov/search/view/paper/068059AF-C78E-41BD-B748-1A890039497A/\"}, {\"transaction_date\": \"10/03/2012\", \"disclosure_date\": \"10/03/2012\", \"owner\": \"N/A\", \"ticker\": \"N/A\", \"asset_description\": \"This filing was disclosed via scanned PDF. Use link in ptr_link column to view the PDF.\", \"asset_type\": \"PDF Disclosed Filing\", \"type\": \"N/A\", \"amount\": \"Unknown\", \"comment\": \"\", \"senator\": \"Thad Cochran\", \"ptr_link\": \"https://efdsearch.senate.gov/search/view/paper/E752E217-D0B6-4C6B-B3FD-BF7C143123A6/\"}, {\"transaction_date\": \"10/03/2012\", \"disclosure_date\": \"10/03/2012\", \"owner\": \"N/A\", \"ticker\": \"N/A\", \"asset_description\": \"This filing was disclosed via scanned PDF. Use link in ptr_link column to view the PDF.\", \"asset_type\": \"PDF Disclosed Filing\", \"type\": \"N/A\", \"amount\": \"Unknown\", \"comment\": \"\", \"senator\": \"Susan M Collins\", \"ptr_link\": \"https://efdsearch.senate.gov/search/view/paper/AF0D5115-2331-44DB-95D5-64FB17444B3B/\"}, {\"transaction_date\": \"10/01/2012\", \"disclosure_date\": \"10/01/2012\", \"owner\": \"N/A\", \"ticker\": \"N/A\", \"asset_description\": \"This filing was disclosed via scanned PDF. Use link in ptr_link column to view the PDF.\", \"asset_type\": \"PDF Disclosed Filing\", \"type\": \"N/A\", \"amount\": \"Unknown\", \"comment\": \"\", \"senator\": \"Tom S Udall\", \"ptr_link\": \"https://efdsearch.senate.gov/search/view/paper/B1AD6F12-0672-425A-A7C5-7FE73105A236/\"}, {\"transaction_date\": \"09/27/2012\", \"disclosure_date\": \"09/27/2012\", \"owner\": \"N/A\", \"ticker\": \"N/A\", \"asset_description\": \"This filing was disclosed via scanned PDF. Use link in ptr_link column to view the PDF.\", \"asset_type\": \"PDF Disclosed Filing\", \"type\": \"N/A\", \"amount\": \"Unknown\", \"comment\": \"\", \"senator\": \"Mark R Warner\", \"ptr_link\": \"https://efdsearch.senate.gov/search/view/paper/D054F748-476C-4DE6-9FBE-089E2BB88BB1/\"}, {\"transaction_date\": \"09/26/2012\", \"disclosure_date\": \"09/26/2012\", \"owner\": \"N/A\", \"ticker\": \"N/A\", \"asset_description\": \"This filing was disclosed via scanned PDF. Use link in ptr_link column to view the PDF.\", \"asset_type\": \"PDF Disclosed Filing\", \"type\": \"N/A\", \"amount\": \"Unknown\", \"comment\": \"\", \"senator\": \"John Hoeven\", \"ptr_link\": \"https://efdsearch.senate.gov/search/view/paper/E0A80430-1D97-4F5A-B357-49618DECA254/\"}, {\"transaction_date\": \"09/20/2012\", \"disclosure_date\": \"09/20/2012\", \"owner\": \"N/A\", \"ticker\": \"N/A\", \"asset_description\": \"This filing was disclosed via scanned PDF. Use link in ptr_link column to view the PDF.\", \"asset_type\": \"PDF Disclosed Filing\", \"type\": \"N/A\", \"amount\": \"Unknown\", \"comment\": \"\", \"senator\": \"Sheldon Whitehouse\", \"ptr_link\": \"https://efdsearch.senate.gov/search/view/paper/10C3E25F-7E79-4725-9F12-5005D1AADBF3/\"}, {\"transaction_date\": \"09/13/2012\", \"disclosure_date\": \"09/13/2012\", \"owner\": \"N/A\", \"ticker\": \"N/A\", \"asset_description\": \"This filing was disclosed via scanned PDF. Use link in ptr_link column to view the PDF.\", \"asset_type\": \"PDF Disclosed Filing\", \"type\": \"N/A\", \"amount\": \"Unknown\", \"comment\": \"\", \"senator\": \"Pat Roberts\", \"ptr_link\": \"https://efdsearch.senate.gov/search/view/paper/8579DF96-661B-449D-AD86-40F67328F8E7/\"}, {\"transaction_date\": \"09/11/2012\", \"disclosure_date\": \"09/11/2012\", \"owner\": \"N/A\", \"ticker\": \"N/A\", \"asset_description\": \"This filing was disclosed via scanned PDF. Use link in ptr_link column to view the PDF.\", \"asset_type\": \"PDF Disclosed Filing\", \"type\": \"N/A\", \"amount\": \"Unknown\", \"comment\": \"\", \"senator\": \"Richard M Burr\", \"ptr_link\": \"https://efdsearch.senate.gov/search/view/paper/B62B736C-06B3-4323-8941-0CB74A702918/\"}, {\"transaction_date\": \"09/11/2012\", \"disclosure_date\": \"09/11/2012\", \"owner\": \"N/A\", \"ticker\": \"N/A\", \"asset_description\": \"This filing was disclosed via scanned PDF. Use link in ptr_link column to view the PDF.\", \"asset_type\": \"PDF Disclosed Filing\", \"type\": \"N/A\", \"amount\": \"Unknown\", \"comment\": \"\", \"senator\": \"Thomas R Carper\", \"ptr_link\": \"https://efdsearch.senate.gov/search/view/paper/3BC833D9-3958-4062-B950-3565C38F1972/\"}, {\"transaction_date\": \"09/10/2012\", \"disclosure_date\": \"09/10/2012\", \"owner\": \"N/A\", \"ticker\": \"N/A\", \"asset_description\": \"This filing was disclosed via scanned PDF. Use link in ptr_link column to view the PDF.\", \"asset_type\": \"PDF Disclosed Filing\", \"type\": \"N/A\", \"amount\": \"Unknown\", \"comment\": \"\", \"senator\": \"Thad Cochran\", \"ptr_link\": \"https://efdsearch.senate.gov/search/view/paper/9D8A06DE-92A6-4B2B-BEFA-ADC75927FFDD/\"}, {\"transaction_date\": \"08/27/2012\", \"disclosure_date\": \"08/27/2012\", \"owner\": \"N/A\", \"ticker\": \"N/A\", \"asset_description\": \"This filing was disclosed via scanned PDF. Use link in ptr_link column to view the PDF.\", \"asset_type\": \"PDF Disclosed Filing\", \"type\": \"N/A\", \"amount\": \"Unknown\", \"comment\": \"\", \"senator\": \"Patrick J Toomey\", \"ptr_link\": \"https://efdsearch.senate.gov/search/view/paper/0AAA8FDA-D92D-4E56-B074-7D95BAE1F997/\"}, {\"transaction_date\": \"08/24/2012\", \"disclosure_date\": \"08/24/2012\", \"owner\": \"N/A\", \"ticker\": \"N/A\", \"asset_description\": \"This filing was disclosed via scanned PDF. Use link in ptr_link column to view the PDF.\", \"asset_type\": \"PDF Disclosed Filing\", \"type\": \"N/A\", \"amount\": \"Unknown\", \"comment\": \"\", \"senator\": \"John Hoeven\", \"ptr_link\": \"https://efdsearch.senate.gov/search/view/paper/8E680947-4D6F-47E2-A26E-ADC936B2D795/\"}, {\"transaction_date\": \"08/23/2012\", \"disclosure_date\": \"08/23/2012\", \"owner\": \"N/A\", \"ticker\": \"N/A\", \"asset_description\": \"This filing was disclosed via scanned PDF. Use link in ptr_link column to view the PDF.\", \"asset_type\": \"PDF Disclosed Filing\", \"type\": \"N/A\", \"amount\": \"Unknown\", \"comment\": \"\", \"senator\": \"Pat Roberts\", \"ptr_link\": \"https://efdsearch.senate.gov/search/view/paper/44FD4251-4F6F-42AB-8353-82778AC43E55/\"}, {\"transaction_date\": \"08/22/2012\", \"disclosure_date\": \"08/22/2012\", \"owner\": \"N/A\", \"ticker\": \"N/A\", \"asset_description\": \"This filing was disclosed via scanned PDF. Use link in ptr_link column to view the PDF.\", \"asset_type\": \"PDF Disclosed Filing\", \"type\": \"N/A\", \"amount\": \"Unknown\", \"comment\": \"\", \"senator\": \"Richard Blumenthal\", \"ptr_link\": \"https://efdsearch.senate.gov/search/view/paper/B49F3170-0DE0-411B-89B0-AF1B8521365D/\"}, {\"transaction_date\": \"08/22/2012\", \"disclosure_date\": \"08/22/2012\", \"owner\": \"N/A\", \"ticker\": \"N/A\", \"asset_description\": \"This filing was disclosed via scanned PDF. Use link in ptr_link column to view the PDF.\", \"asset_type\": \"PDF Disclosed Filing\", \"type\": \"N/A\", \"amount\": \"Unknown\", \"comment\": \"\", \"senator\": \"Thad Cochran\", \"ptr_link\": \"https://efdsearch.senate.gov/search/view/paper/620291E1-12A6-407D-B344-5803BF4F3070/\"}, {\"transaction_date\": \"08/17/2012\", \"disclosure_date\": \"08/17/2012\", \"owner\": \"N/A\", \"ticker\": \"N/A\", \"asset_description\": \"This filing was disclosed via scanned PDF. Use link in ptr_link column to view the PDF.\", \"asset_type\": \"PDF Disclosed Filing\", \"type\": \"N/A\", \"amount\": \"Unknown\", \"comment\": \"\", \"senator\": \"Thad Cochran\", \"ptr_link\": \"https://efdsearch.senate.gov/search/view/paper/BE221D72-90E6-40E6-8BDC-2CAA90589D6F/\"}, {\"transaction_date\": \"08/17/2012\", \"disclosure_date\": \"08/17/2012\", \"owner\": \"N/A\", \"ticker\": \"N/A\", \"asset_description\": \"This filing was disclosed via scanned PDF. Use link in ptr_link column to view the PDF.\", \"asset_type\": \"PDF Disclosed Filing\", \"type\": \"N/A\", \"amount\": \"Unknown\", \"comment\": \"\", \"senator\": \"Sheldon Whitehouse\", \"ptr_link\": \"https://efdsearch.senate.gov/search/view/paper/5221D7D8-15D0-40FE-A64C-DD242311F0AE/\"}, {\"transaction_date\": \"08/16/2012\", \"disclosure_date\": \"08/16/2012\", \"owner\": \"N/A\", \"ticker\": \"N/A\", \"asset_description\": \"This filing was disclosed via scanned PDF. Use link in ptr_link column to view the PDF.\", \"asset_type\": \"PDF Disclosed Filing\", \"type\": \"N/A\", \"amount\": \"Unknown\", \"comment\": \"\", \"senator\": \"Pat Roberts\", \"ptr_link\": \"https://efdsearch.senate.gov/search/view/paper/5C666F29-7055-461D-B4F7-5EA73AFCD860/\"}, {\"transaction_date\": \"08/15/2012\", \"disclosure_date\": \"08/15/2012\", \"owner\": \"N/A\", \"ticker\": \"N/A\", \"asset_description\": \"This filing was disclosed via scanned PDF. Use link in ptr_link column to view the PDF.\", \"asset_type\": \"PDF Disclosed Filing\", \"type\": \"N/A\", \"amount\": \"Unknown\", \"comment\": \"\", \"senator\": \"Robert J Portman\", \"ptr_link\": \"https://efdsearch.senate.gov/search/view/paper/0D78FC31-D28A-440A-8E2D-65C4D9861EAB/\"}, {\"transaction_date\": \"08/02/2012\", \"disclosure_date\": \"08/02/2012\", \"owner\": \"N/A\", \"ticker\": \"N/A\", \"asset_description\": \"This filing was disclosed via scanned PDF. Use link in ptr_link column to view the PDF.\", \"asset_type\": \"PDF Disclosed Filing\", \"type\": \"N/A\", \"amount\": \"Unknown\", \"comment\": \"\", \"senator\": \"Thomas R Carper\", \"ptr_link\": \"https://efdsearch.senate.gov/search/view/paper/CFDE3B80-E8BD-4F2D-9D64-E892C5EFB32A/\"}, {\"transaction_date\": \"07/25/2012\", \"disclosure_date\": \"07/25/2012\", \"owner\": \"N/A\", \"ticker\": \"N/A\", \"asset_description\": \"This filing was disclosed via scanned PDF. Use link in ptr_link column to view the PDF.\", \"asset_type\": \"PDF Disclosed Filing\", \"type\": \"N/A\", \"amount\": \"Unknown\", \"comment\": \"\", \"senator\": \"Benjamin L Cardin\", \"ptr_link\": \"https://efdsearch.senate.gov/search/view/paper/CDFDAF62-18EA-4298-B0C5-62085A6EC3CD/\"}]'"
      ]
     },
     "metadata": {},
     "execution_count": 3
    }
   ],
   "source": [
    "lines[0]"
   ]
  },
  {
   "cell_type": "code",
   "execution_count": 6,
   "metadata": {},
   "outputs": [
    {
     "output_type": "execute_result",
     "data": {
      "text/plain": [
       "str"
      ]
     },
     "metadata": {},
     "execution_count": 6
    }
   ],
   "source": [
    "type(lines[0])"
   ]
  },
  {
   "cell_type": "code",
   "execution_count": 13,
   "metadata": {},
   "outputs": [],
   "source": [
    "import ast\n",
    "dictionary = ast.literal_eval(lines[0])"
   ]
  },
  {
   "cell_type": "code",
   "execution_count": 18,
   "metadata": {},
   "outputs": [
    {
     "output_type": "execute_result",
     "data": {
      "text/plain": [
       "{'transaction_date': '06/24/2021',\n",
       " 'owner': 'Spouse',\n",
       " 'ticker': 'USB',\n",
       " 'asset_description': 'U.S. Bancorp',\n",
       " 'asset_type': 'Stock',\n",
       " 'type': 'Purchase',\n",
       " 'amount': '$1,001 - $15,000',\n",
       " 'comment': '--',\n",
       " 'senator': 'Shelley M Capito',\n",
       " 'ptr_link': 'https://efdsearch.senate.gov/search/view/ptr/84915b6e-846b-411b-907e-46fd4a179919/',\n",
       " 'disclosure_date': '07/16/2021'}"
      ]
     },
     "metadata": {},
     "execution_count": 18
    }
   ],
   "source": [
    "for items in dictionary:\r\n",
    "    dictionary[][\"senator\"]\r\n",
    "    dictionary[0][\"transaction_date\"]\r\n",
    "    dictionary[0][\"type\"]\r\n",
    "    dictionary[0][\"amount\"]\r\n",
    "    dictionary[0][\"ticker\"]\r\n",
    "    dictionary[0][\"asset_description\"]\r\n",
    "    dictionary[0][\"asset_type\"]"
   ]
  },
  {
   "cell_type": "code",
   "execution_count": 8,
   "metadata": {},
   "outputs": [],
   "source": [
    "import requests\n",
    "import os\n",
    "from datetime import date\n",
    " \n",
    "from requests.exceptions import HTTPError \n",
    " "
   ]
  },
  {
   "cell_type": "code",
   "execution_count": 9,
   "metadata": {},
   "outputs": [],
   "source": [
    "endpoint=\"https://senate-stock-watcher-data.s3-us-west-2.amazonaws.com/aggregate/all_transactions.json\"\n",
    "req = requests.get(endpoint, allow_redirects=True)"
   ]
  },
  {
   "cell_type": "code",
   "execution_count": 12,
   "metadata": {},
   "outputs": [
    {
     "output_type": "execute_result",
     "data": {
      "text/plain": [
       "str"
      ]
     },
     "metadata": {},
     "execution_count": 12
    }
   ],
   "source": [
    "type(req.text)"
   ]
  },
  {
   "cell_type": "code",
   "execution_count": 24,
   "metadata": {},
   "outputs": [
    {
     "output_type": "stream",
     "name": "stdout",
     "text": [
      "Successfully Connected to SQLite\nThe SQLite connection is closed\n"
     ]
    }
   ],
   "source": [
    "import sqlite3\n",
    "\n",
    "try:\n",
    "    sqliteConnection = sqlite3.connect('../../db.sqlite3')\n",
    "    cursor = sqliteConnection.cursor()\n",
    "    print(\"Successfully Connected to SQLite\")\n",
    "\n",
    "    sqlite_insert_query = \"\"\"INSERT INTO db.sqlite3\n",
    "                        (ticker, asset_description, asset_type, amount, type, transaction_date, senator) \n",
    "                        VALUES \n",
    "                        (dictionary[0][\"ticker\"],\n",
    "                        dictionary[0][\"asset_description\"],\n",
    "                        dictionary[0][\"asset_type\"],\n",
    "                        dictionary[0][\"amount\"],\n",
    "                        dictionary[0][\"type\"],\n",
    "                        dictionary[0][\"transaction_date\"]\n",
    "                        dictionary[0][\"senator\"])\"\"\"\n",
    "except sqlite3.Error as error:\n",
    "    print(\"Failed to insert data into sqlite table\", error)\n",
    "finally:\n",
    "    if sqliteConnection:\n",
    "        sqliteConnection.close()\n",
    "        print(\"The SQLite connection is closed\")"
   ]
  },
  {
   "cell_type": "code",
   "execution_count": 28,
   "metadata": {},
   "outputs": [
    {
     "output_type": "stream",
     "name": "stdout",
     "text": [
      "Successfully Connected to SQLite\nThe SQLite connection is closed\n"
     ]
    },
    {
     "output_type": "error",
     "ename": "ValueError",
     "evalue": "operation parameter must be str",
     "traceback": [
      "\u001b[1;31m---------------------------------------------------------------------------\u001b[0m",
      "\u001b[1;31mValueError\u001b[0m                                Traceback (most recent call last)",
      "\u001b[1;32m<ipython-input-28-6bee11e516bd>\u001b[0m in \u001b[0;36m<module>\u001b[1;34m\u001b[0m\n\u001b[0;32m     17\u001b[0m                         \u001b[0mdictionary\u001b[0m\u001b[1;33m[\u001b[0m\u001b[1;36m0\u001b[0m\u001b[1;33m]\u001b[0m\u001b[1;33m[\u001b[0m\u001b[1;34m\"transaction_date\"\u001b[0m\u001b[1;33m]\u001b[0m\u001b[1;33m,\u001b[0m\u001b[1;33m\u001b[0m\u001b[1;33m\u001b[0m\u001b[0m\n\u001b[0;32m     18\u001b[0m                         dictionary[0][\"senator\"]))\n\u001b[1;32m---> 19\u001b[1;33m     \u001b[0mcount\u001b[0m \u001b[1;33m=\u001b[0m \u001b[0mcursor\u001b[0m\u001b[1;33m.\u001b[0m\u001b[0mexecute\u001b[0m\u001b[1;33m(\u001b[0m\u001b[0msqlite_insert_query\u001b[0m\u001b[1;33m)\u001b[0m\u001b[1;33m\u001b[0m\u001b[1;33m\u001b[0m\u001b[0m\n\u001b[0m\u001b[0;32m     20\u001b[0m     \u001b[0msqliteConnection\u001b[0m\u001b[1;33m.\u001b[0m\u001b[0mcommit\u001b[0m\u001b[1;33m(\u001b[0m\u001b[1;33m)\u001b[0m\u001b[1;33m\u001b[0m\u001b[1;33m\u001b[0m\u001b[0m\n\u001b[0;32m     21\u001b[0m     \u001b[0mprint\u001b[0m\u001b[1;33m(\u001b[0m\u001b[1;34m\"Record inserted successfully into SqliteDb_developers table \"\u001b[0m\u001b[1;33m,\u001b[0m \u001b[0mcursor\u001b[0m\u001b[1;33m.\u001b[0m\u001b[0mrowcount\u001b[0m\u001b[1;33m)\u001b[0m\u001b[1;33m\u001b[0m\u001b[1;33m\u001b[0m\u001b[0m\n",
      "\u001b[1;31mValueError\u001b[0m: operation parameter must be str"
     ]
    }
   ],
   "source": [
    "import sqlite3\n",
    "\n",
    "try:\n",
    "    sqliteConnection = sqlite3.connect('../../db.sqlite3')\n",
    "    cursor = sqliteConnection.cursor()\n",
    "    print(\"Successfully Connected to SQLite\")\n",
    "\n",
    "    sqlite_insert_query = \"\"\"INSERT INTO db.sqlite3\n",
    "                        (ticker, asset_description, asset_type, amount, type, transaction_date, senator) \n",
    "                        VALUES \n",
    "                        (?,?,?,?,?,?,?)\"\"\"\n",
    "    data_tuple = (dictionary[0][\"ticker\"],\n",
    "                    dictionary[0][\"asset_description\"],\n",
    "                    dictionary[0][\"asset_type\"],\n",
    "                    dictionary[0][\"amount\"],\n",
    "                    dictionary[0][\"type\"],\n",
    "                    dictionary[0][\"transaction_date\"],\n",
    "                    dictionary[0][\"senator\"])\n",
    "    count = cursor.execute(sqlite_insert_query, data_tuple)\n",
    "    sqliteConnection.commit()\n",
    "    print(\"Record inserted successfully into SqliteDb_developers table \", cursor.rowcount)\n",
    "    cursor.close()\n",
    "except sqlite3.Error as error:\n",
    "    print(\"Failed to insert data into sqlite table\", error)\n",
    "finally:\n",
    "    if sqliteConnection:\n",
    "        sqliteConnection.close()\n",
    "        print(\"The SQLite connection is closed\")"
   ]
  },
  {
   "cell_type": "code",
   "execution_count": 23,
   "metadata": {},
   "outputs": [
    {
     "output_type": "execute_result",
     "data": {
      "text/plain": [
       "'Shelley M Capito'"
      ]
     },
     "metadata": {},
     "execution_count": 23
    }
   ],
   "source": [
    "dictionary[0][\"ticker\"]\n",
    "dictionary[0][\"asset_description\"]\n",
    "dictionary[0][\"asset_type\"]\n",
    "dictionary[0][\"amount\"]\n",
    "dictionary[0][\"type\"]\n",
    "dictionary[0][\"transaction_date\"]\n",
    "dictionary[0][\"senator\"]"
   ]
  }
 ]
}