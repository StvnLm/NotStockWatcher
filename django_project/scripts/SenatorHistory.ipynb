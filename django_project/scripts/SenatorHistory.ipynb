{
 "metadata": {
  "language_info": {
   "codemirror_mode": {
    "name": "ipython",
    "version": 3
   },
   "file_extension": ".py",
   "mimetype": "text/x-python",
   "name": "python",
   "nbconvert_exporter": "python",
   "pygments_lexer": "ipython3",
   "version": "3.8.10"
  },
  "orig_nbformat": 2,
  "kernelspec": {
   "name": "python3",
   "display_name": "Python 3.8.10 64-bit (conda)"
  },
  "interpreter": {
   "hash": "b3ba2566441a7c06988d0923437866b63cedc61552a5af99d1f4fb67d367b25f"
  }
 },
 "nbformat": 4,
 "nbformat_minor": 2,
 "cells": [
  {
   "cell_type": "code",
   "execution_count": 2,
   "source": [
    "import requests\r\n",
    "import os\r\n",
    "from datetime import date\r\n",
    " \r\n",
    "from requests.exceptions import HTTPError \r\n",
    " "
   ],
   "outputs": [],
   "metadata": {}
  },
  {
   "cell_type": "code",
   "execution_count": 3,
   "source": [
    "endpoint=\"https://senate-stock-watcher-data.s3-us-west-2.amazonaws.com/aggregate/all_transactions.json\"\r\n",
    "req = requests.get(endpoint, allow_redirects=True)"
   ],
   "outputs": [],
   "metadata": {}
  },
  {
   "cell_type": "code",
   "execution_count": null,
   "source": [
    "# req.text"
   ],
   "outputs": [],
   "metadata": {}
  },
  {
   "cell_type": "code",
   "execution_count": 5,
   "source": [
    "import ast\r\n",
    "dictionary = ast.literal_eval(req.text)"
   ],
   "outputs": [],
   "metadata": {}
  },
  {
   "cell_type": "code",
   "execution_count": 16,
   "source": [
    "import pandas as pd\r\n",
    "\r\n",
    "df = pd.DataFrame(dictionary)"
   ],
   "outputs": [],
   "metadata": {}
  },
  {
   "cell_type": "code",
   "execution_count": 25,
   "source": [
    "df.amount"
   ],
   "outputs": [
    {
     "output_type": "execute_result",
     "data": {
      "text/plain": [
       "0       $15,001 - $50,000\n",
       "1       $15,001 - $50,000\n",
       "2       $15,001 - $50,000\n",
       "3        $1,001 - $15,000\n",
       "4        $1,001 - $15,000\n",
       "              ...        \n",
       "7349              Unknown\n",
       "7350              Unknown\n",
       "7351              Unknown\n",
       "7352              Unknown\n",
       "7353              Unknown\n",
       "Name: amount, Length: 7354, dtype: object"
      ]
     },
     "metadata": {},
     "execution_count": 25
    }
   ],
   "metadata": {}
  },
  {
   "cell_type": "code",
   "execution_count": 27,
   "source": [
    "df = df[df.amount != \"Unknown\"]"
   ],
   "outputs": [],
   "metadata": {}
  },
  {
   "cell_type": "code",
   "execution_count": 29,
   "source": [
    "df = df[df.ticker != \"--\"]"
   ],
   "outputs": [],
   "metadata": {}
  },
  {
   "cell_type": "code",
   "execution_count": 30,
   "source": [
    "len(df)"
   ],
   "outputs": [
    {
     "output_type": "execute_result",
     "data": {
      "text/plain": [
       "6575"
      ]
     },
     "metadata": {},
     "execution_count": 30
    }
   ],
   "metadata": {}
  },
  {
   "cell_type": "code",
   "execution_count": 34,
   "source": [
    "df.amount[0].split(' - ')[1]"
   ],
   "outputs": [
    {
     "output_type": "execute_result",
     "data": {
      "text/plain": [
       "'$50,000'"
      ]
     },
     "metadata": {},
     "execution_count": 34
    }
   ],
   "metadata": {}
  },
  {
   "cell_type": "code",
   "execution_count": 35,
   "source": [
    "df.amountMin = df.amount.split(' - ')[0]"
   ],
   "outputs": [
    {
     "output_type": "error",
     "ename": "AttributeError",
     "evalue": "'Series' object has no attribute 'split'",
     "traceback": [
      "\u001b[1;31m---------------------------------------------------------------------------\u001b[0m",
      "\u001b[1;31mAttributeError\u001b[0m                            Traceback (most recent call last)",
      "\u001b[1;32m<ipython-input-35-bb7e6db7a183>\u001b[0m in \u001b[0;36m<module>\u001b[1;34m\u001b[0m\n\u001b[1;32m----> 1\u001b[1;33m \u001b[0mdf\u001b[0m\u001b[1;33m.\u001b[0m\u001b[0mamountMin\u001b[0m \u001b[1;33m=\u001b[0m \u001b[0mdf\u001b[0m\u001b[1;33m.\u001b[0m\u001b[0mamount\u001b[0m\u001b[1;33m.\u001b[0m\u001b[0msplit\u001b[0m\u001b[1;33m(\u001b[0m\u001b[1;34m' - '\u001b[0m\u001b[1;33m)\u001b[0m\u001b[1;33m[\u001b[0m\u001b[1;36m0\u001b[0m\u001b[1;33m]\u001b[0m\u001b[1;33m\u001b[0m\u001b[1;33m\u001b[0m\u001b[0m\n\u001b[0m",
      "\u001b[1;32mC:\\ProgramData\\Anaconda3\\lib\\site-packages\\pandas\\core\\generic.py\u001b[0m in \u001b[0;36m__getattr__\u001b[1;34m(self, name)\u001b[0m\n\u001b[0;32m   5463\u001b[0m             \u001b[1;32mif\u001b[0m \u001b[0mself\u001b[0m\u001b[1;33m.\u001b[0m\u001b[0m_info_axis\u001b[0m\u001b[1;33m.\u001b[0m\u001b[0m_can_hold_identifiers_and_holds_name\u001b[0m\u001b[1;33m(\u001b[0m\u001b[0mname\u001b[0m\u001b[1;33m)\u001b[0m\u001b[1;33m:\u001b[0m\u001b[1;33m\u001b[0m\u001b[1;33m\u001b[0m\u001b[0m\n\u001b[0;32m   5464\u001b[0m                 \u001b[1;32mreturn\u001b[0m \u001b[0mself\u001b[0m\u001b[1;33m[\u001b[0m\u001b[0mname\u001b[0m\u001b[1;33m]\u001b[0m\u001b[1;33m\u001b[0m\u001b[1;33m\u001b[0m\u001b[0m\n\u001b[1;32m-> 5465\u001b[1;33m             \u001b[1;32mreturn\u001b[0m \u001b[0mobject\u001b[0m\u001b[1;33m.\u001b[0m\u001b[0m__getattribute__\u001b[0m\u001b[1;33m(\u001b[0m\u001b[0mself\u001b[0m\u001b[1;33m,\u001b[0m \u001b[0mname\u001b[0m\u001b[1;33m)\u001b[0m\u001b[1;33m\u001b[0m\u001b[1;33m\u001b[0m\u001b[0m\n\u001b[0m\u001b[0;32m   5466\u001b[0m \u001b[1;33m\u001b[0m\u001b[0m\n\u001b[0;32m   5467\u001b[0m     \u001b[1;32mdef\u001b[0m \u001b[0m__setattr__\u001b[0m\u001b[1;33m(\u001b[0m\u001b[0mself\u001b[0m\u001b[1;33m,\u001b[0m \u001b[0mname\u001b[0m\u001b[1;33m:\u001b[0m \u001b[0mstr\u001b[0m\u001b[1;33m,\u001b[0m \u001b[0mvalue\u001b[0m\u001b[1;33m)\u001b[0m \u001b[1;33m->\u001b[0m \u001b[1;32mNone\u001b[0m\u001b[1;33m:\u001b[0m\u001b[1;33m\u001b[0m\u001b[1;33m\u001b[0m\u001b[0m\n",
      "\u001b[1;31mAttributeError\u001b[0m: 'Series' object has no attribute 'split'"
     ]
    }
   ],
   "metadata": {}
  },
  {
   "cell_type": "code",
   "execution_count": null,
   "source": [
    "# print(dictionary)"
   ],
   "outputs": [],
   "metadata": {}
  },
  {
   "cell_type": "code",
   "execution_count": null,
   "source": [
    "for i , j in enumerate(dictionary):\r\n",
    "    if dictionary[i]['amount'] == 'Unknown':\r\n",
    "        print(i, dictionary[i])\r\n",
    "        del dictionary[i]"
   ],
   "outputs": [],
   "metadata": {}
  },
  {
   "cell_type": "code",
   "execution_count": null,
   "source": [
    "for i , j in enumerate(dictionary):\r\n",
    "    if dictionary[i]['ticker'] == '--':\r\n",
    "        print(i, dictionary[i])\r\n",
    "        del dictionary[i]"
   ],
   "outputs": [],
   "metadata": {}
  },
  {
   "cell_type": "code",
   "execution_count": 12,
   "source": [
    "len(dictionary)"
   ],
   "outputs": [
    {
     "output_type": "execute_result",
     "data": {
      "text/plain": [
       "7354"
      ]
     },
     "metadata": {},
     "execution_count": 12
    }
   ],
   "metadata": {}
  },
  {
   "cell_type": "code",
   "execution_count": null,
   "source": [
    "# for i , j in enumerate(dictionary):\r\n",
    "#     print(dictionary[i]['amount'])"
   ],
   "outputs": [],
   "metadata": {}
  },
  {
   "cell_type": "code",
   "execution_count": null,
   "source": [
    "# for i , j in enumerate(dictionary):\r\n",
    "#     print(dictionary[i]['amountMin'])"
   ],
   "outputs": [],
   "metadata": {
    "tags": [
     "outputPrepend"
    ]
   }
  },
  {
   "cell_type": "code",
   "execution_count": 14,
   "source": [
    "dictionary[2134]['amount']"
   ],
   "outputs": [
    {
     "output_type": "execute_result",
     "data": {
      "text/plain": [
       "'Unknown'"
      ]
     },
     "metadata": {},
     "execution_count": 14
    }
   ],
   "metadata": {}
  },
  {
   "cell_type": "code",
   "execution_count": null,
   "source": [
    "for i , j in enumerate(dictionary):\r\n",
    "    print(i,dictionary[i]['amount'].split(' - ')[1])"
   ],
   "outputs": [],
   "metadata": {}
  },
  {
   "cell_type": "code",
   "execution_count": 32,
   "source": [
    "for i , j in enumerate(dictionary):\r\n",
    "    dictionary[i]['amountMax'] = dictionary[i]['amount'].split(' - ')[1]"
   ],
   "outputs": [
    {
     "output_type": "error",
     "ename": "IndexError",
     "evalue": "list index out of range",
     "traceback": [
      "\u001b[1;31m---------------------------------------------------------------------------\u001b[0m",
      "\u001b[1;31mIndexError\u001b[0m                                Traceback (most recent call last)",
      "\u001b[1;32m<ipython-input-32-c10bbecb9d03>\u001b[0m in \u001b[0;36m<module>\u001b[1;34m\u001b[0m\n\u001b[0;32m      1\u001b[0m \u001b[1;32mfor\u001b[0m \u001b[0mi\u001b[0m \u001b[1;33m,\u001b[0m \u001b[0mj\u001b[0m \u001b[1;32min\u001b[0m \u001b[0menumerate\u001b[0m\u001b[1;33m(\u001b[0m\u001b[0mdictionary\u001b[0m\u001b[1;33m)\u001b[0m\u001b[1;33m:\u001b[0m\u001b[1;33m\u001b[0m\u001b[1;33m\u001b[0m\u001b[0m\n\u001b[1;32m----> 2\u001b[1;33m     \u001b[0mdictionary\u001b[0m\u001b[1;33m[\u001b[0m\u001b[0mi\u001b[0m\u001b[1;33m]\u001b[0m\u001b[1;33m[\u001b[0m\u001b[1;34m'amountMax'\u001b[0m\u001b[1;33m]\u001b[0m \u001b[1;33m=\u001b[0m \u001b[0mdictionary\u001b[0m\u001b[1;33m[\u001b[0m\u001b[0mi\u001b[0m\u001b[1;33m]\u001b[0m\u001b[1;33m[\u001b[0m\u001b[1;34m'amount'\u001b[0m\u001b[1;33m]\u001b[0m\u001b[1;33m.\u001b[0m\u001b[0msplit\u001b[0m\u001b[1;33m(\u001b[0m\u001b[1;34m' - '\u001b[0m\u001b[1;33m)\u001b[0m\u001b[1;33m[\u001b[0m\u001b[1;36m1\u001b[0m\u001b[1;33m]\u001b[0m\u001b[1;33m\u001b[0m\u001b[1;33m\u001b[0m\u001b[0m\n\u001b[0m",
      "\u001b[1;31mIndexError\u001b[0m: list index out of range"
     ]
    }
   ],
   "metadata": {}
  },
  {
   "cell_type": "code",
   "execution_count": 5,
   "source": [
    "# Table creation script\r\n",
    "\r\n",
    "import sqlite3\r\n",
    "\r\n",
    "try:\r\n",
    "    sqliteConnection = sqlite3.connect('../db.sqlite3')\r\n",
    "    sqlite_create_table_query = '''CREATE TABLE StockTable (\r\n",
    "                                id INTEGER PRIMARY KEY,\r\n",
    "                                ticker TEXT,\r\n",
    "                                asset_description TEXT,\r\n",
    "                                asset_type TEXT,\r\n",
    "                                amount TEXT,\r\n",
    "                                type TEXT,\r\n",
    "                                transaction_date DATETIME,\r\n",
    "                                senator TEXT);'''\r\n",
    "\r\n",
    "    cursor = sqliteConnection.cursor()\r\n",
    "    print(\"Successfully Connected to SQLite\")\r\n",
    "    cursor.execute(sqlite_create_table_query)\r\n",
    "    sqliteConnection.commit()\r\n",
    "    print(\"SQLite table created\")\r\n",
    "\r\n",
    "    cursor.close()\r\n",
    "\r\n",
    "except sqlite3.Error as error:\r\n",
    "    print(\"Error while creating a sqlite table\", error)\r\n",
    "finally:\r\n",
    "    if sqliteConnection:\r\n",
    "        sqliteConnection.close()\r\n",
    "        print(\"sqlite connection is closed\")"
   ],
   "outputs": [
    {
     "output_type": "stream",
     "name": "stdout",
     "text": [
      "Successfully Connected to SQLite\n",
      "Error while creating a sqlite table table StockTable already exists\n",
      "sqlite connection is closed\n"
     ]
    }
   ],
   "metadata": {}
  },
  {
   "cell_type": "code",
   "execution_count": 33,
   "source": [
    "#Table add record script\r\n",
    "import sqlite3\r\n",
    "\r\n",
    "def add_record(i):\r\n",
    "    try:\r\n",
    "        sqliteConnection = sqlite3.connect('../db.sqlite3')\r\n",
    "        cursor = sqliteConnection.cursor()\r\n",
    "        print(\"Successfully Connected to SQLite\")\r\n",
    "\r\n",
    "        sqlite_insert_query = \"\"\"INSERT INTO StockTable\r\n",
    "                            (ticker, asset_description, asset_type, amount, type, transaction_date, senator) \r\n",
    "                            VALUES \r\n",
    "                            (?,?,?,?,?,?,?)\"\"\"\r\n",
    "        data_tuple = (dictionary[i][\"ticker\"],\r\n",
    "                        dictionary[i][\"asset_description\"],\r\n",
    "                        dictionary[i][\"asset_type\"],\r\n",
    "                        dictionary[i][\"amount\"],\r\n",
    "                        dictionary[i][\"type\"],\r\n",
    "                        dictionary[i][\"transaction_date\"],\r\n",
    "                        dictionary[i][\"senator\"])\r\n",
    "        count = cursor.execute(sqlite_insert_query, data_tuple)\r\n",
    "        sqliteConnection.commit()\r\n",
    "        print(\"Record inserted successfully into SqliteDb_developers table \", cursor.rowcount)\r\n",
    "        cursor.close()\r\n",
    "    except sqlite3.Error as error:\r\n",
    "        print(\"Failed to insert data into sqlite table\", error)\r\n",
    "    finally:\r\n",
    "        if sqliteConnection:\r\n",
    "            sqliteConnection.close()\r\n",
    "            print(\"The SQLite connection is closed\")"
   ],
   "outputs": [],
   "metadata": {}
  },
  {
   "cell_type": "code",
   "execution_count": 58,
   "source": [
    "dictionary[8759]"
   ],
   "outputs": [
    {
     "output_type": "execute_result",
     "data": {
      "text/plain": [
       "{'transaction_date': '07/25/2012',\n",
       " 'disclosure_date': '07/25/2012',\n",
       " 'owner': 'N/A',\n",
       " 'ticker': 'N/A',\n",
       " 'asset_description': 'This filing was disclosed via scanned PDF. Use link in ptr_link column to view the PDF.',\n",
       " 'asset_type': 'PDF Disclosed Filing',\n",
       " 'type': 'N/A',\n",
       " 'amount': 'Unknown',\n",
       " 'comment': '',\n",
       " 'senator': 'Benjamin L Cardin',\n",
       " 'ptr_link': 'https://efdsearch.senate.gov/search/view/paper/CDFDAF62-18EA-4298-B0C5-62085A6EC3CD/'}"
      ]
     },
     "metadata": {},
     "execution_count": 58
    }
   ],
   "metadata": {}
  },
  {
   "cell_type": "code",
   "execution_count": null,
   "source": [
    "for i,j in enumerate(dictionary):\r\n",
    "    add_record(i)"
   ],
   "outputs": [],
   "metadata": {
    "tags": [
     "outputPrepend"
    ]
   }
  },
  {
   "cell_type": "code",
   "execution_count": 2,
   "source": [
    "# Script to delete all records from table\r\n",
    "import sqlite3\r\n",
    "def deleteRecord():\r\n",
    "    try:\r\n",
    "        sqliteConnection = sqlite3.connect('../db.sqlite3')\r\n",
    "        cursor = sqliteConnection.cursor()\r\n",
    "        print(\"Connected to SQLite\")\r\n",
    "\r\n",
    "        # Deleting single record now\r\n",
    "        sql_delete_query = \"\"\"DELETE from StockTable\"\"\"\r\n",
    "        cursor.execute(sql_delete_query)\r\n",
    "        sqliteConnection.commit()\r\n",
    "        print(\"Record deleted successfully \")\r\n",
    "        cursor.close()\r\n",
    "\r\n",
    "    except sqlite3.Error as error:\r\n",
    "        print(\"Failed to delete record from sqlite table\", error)\r\n",
    "    finally:\r\n",
    "        if sqliteConnection:\r\n",
    "            sqliteConnection.close()\r\n",
    "            print(\"the sqlite connection is closed\")\r\n",
    "\r\n",
    "deleteRecord()"
   ],
   "outputs": [
    {
     "output_type": "stream",
     "name": "stdout",
     "text": [
      "Connected to SQLite\n",
      "Failed to delete record from sqlite table no such table: StockTable\n",
      "the sqlite connection is closed\n"
     ]
    }
   ],
   "metadata": {}
  },
  {
   "cell_type": "code",
   "execution_count": 40,
   "source": [
    "len(dictionary)"
   ],
   "outputs": [
    {
     "output_type": "execute_result",
     "data": {
      "text/plain": [
       "8760"
      ]
     },
     "metadata": {},
     "execution_count": 40
    }
   ],
   "metadata": {}
  },
  {
   "cell_type": "code",
   "execution_count": 42,
   "source": [
    "type(dictionary)"
   ],
   "outputs": [
    {
     "output_type": "execute_result",
     "data": {
      "text/plain": [
       "list"
      ]
     },
     "metadata": {},
     "execution_count": 42
    }
   ],
   "metadata": {}
  },
  {
   "cell_type": "code",
   "execution_count": null,
   "source": [
    "import pprint\r\n",
    "for i in range(385,400):\r\n",
    "    pprint.pprint(dictionary[i])"
   ],
   "outputs": [],
   "metadata": {
    "tags": []
   }
  },
  {
   "cell_type": "code",
   "execution_count": null,
   "source": [],
   "outputs": [],
   "metadata": {}
  }
 ]
}